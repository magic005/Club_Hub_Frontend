{
 "cells": [
  {
   "cell_type": "raw",
   "metadata": {
    "vscode": {
     "languageId": "raw"
    }
   },
   "source": [
    "---\n",
    "toc: true\n",
    "layout: post\n",
    "type: issues\n",
    "courses: { compsci: {week: 14} }\n",
    "title: Trimester 2 Final MCQ Reflection - Ansh\n",
    "description: My reflection on the practice MCQ completed 2/29/2024.\n",
    "---"
   ]
  },
  {
   "cell_type": "markdown",
   "metadata": {},
   "source": [
    "# MCQ\n",
    "\n",
    "I scored 63/67 on the MCQ, and thus, most of my focus will be on improving efficiency and time spent on certain questions. I will discuss what I learned, what I can improve, and any corrections I had, as well as in depth explanations as to why I think I got them wrong. \n",
    "\n",
    "MCQ was completed on time, before the start of class on Monday. Peer cross-checking was completed in class.\n",
    "\n",
    "<img src=\"{{site.baseurl}}/images/2020_csp_mcq.png\">"
   ]
  },
  {
   "cell_type": "markdown",
   "metadata": {},
   "source": [
    "# My Learnings\n",
    "\n",
    "Through my completion of the quiz, I was able to learn a lot about both the expectations from this cource, and where I stand as a CS student. Mainly, I was able to understand what a College Board MCQ is really like, and what types of questions they tend to ask. I also was able to see how well I currently understand the curriculum, and while I did achieve a decent score, I feel that I have room to improve in both my efficiency and logical approach.\n",
    "\n",
    "I learned that College Board has 5 big ideas for the class:\n",
    "- Creative Development\n",
    "- Data\n",
    "- Algorithms and Programming\n",
    "- Computer Systems\n",
    "- Impact of Computing\n",
    "\n",
    "Overall, I learned a lot about the course and my current understanding by taking the practice MCQ. "
   ]
  },
  {
   "cell_type": "markdown",
   "metadata": {},
   "source": [
    "# Strengths and Weaknesses\n",
    "\n",
    "In completing the quiz and identifying the types of questions College Board may tend to ask, I was able to find the category of questions on which I can show improvement\n",
    "\n",
    "## Strengths\n",
    "\n",
    "As I went through the quiz, I found the data, computer systems, impact of computing, and creative development categories to be quite easy, due to prior knowledge and common sense. I feel that these topics are my strenghts, because I had the greatest accuracy and efficiency in doing these types of questions.\n",
    "\n",
    "## Weaknesses\n",
    "\n",
    "I found that, despite attaining a pretty decent score, many of the pseudocode questions (**algorithms and programming category**) took me a decent sum of time, which is obviously less than ideal in a time-bound testing environment. Thus, my weakness is efficiency on the programming logic questions. This weakness stems from my approach in answering the questions, in which I fumbled through the instructions and took way too long to read the actual code blocks. I was also genuinely wrong on a few of the other sections; namely, **Data**, and **Computer Systems** in addition to the previously stated.\n",
    "\n",
    "Thus can be seen using the College Board analytics, in which I recieved 100% in the first and last catagories, and nearly all perfect scores in subcategories other than topic 2.2, **Developing Algorithms**, and topic 2.3 **Extracting Information from Data**, 3.12 **Calling Procedures**, and 4.2 **Fault Tolerance**\n",
    "\n",
    "<img src=\"{{site.baseurl}}/images/2020_cspmcq_analytics.png\">\n",
    "\n",
    "# Improvements\n",
    "\n",
    "I was also able to identify what I can improve within my category of weakness. I feel that my approach when looking at these questions, while logically correct and evidently accurate, was inefficient and took much time. Thus, I think that by spending more time with languages like python, I can deepen my understanding of algorithmic and logical code and answer questions without needing to go through every single step of what it does, and simply recognize it for its purpose and functions."
   ]
  },
  {
   "cell_type": "markdown",
   "metadata": {},
   "source": [
    "# Corrections\n",
    "\n",
    "## Question 11\n",
    "\n",
    "<img src=\"{{site.baseurl}}/images/q11_2020.png\">\n",
    "\n",
    "### Explanation\n",
    "\n",
    "My mistake was in immediately looking at the full octets, and nothing beyond them. In doing this, I immediately chose the first option I saw that looked reasonable and involved a 255, 255, ...., which was evidently the incorrect approach. For the 3rd number, the sum would have been 128 + 64 + 32 + 16, summing to 240, revealing an RGB triplet of (255, 255, 240), correlating to ivory.\n",
    "\n",
    "## Question 32\n",
    "\n",
    "<img src=\"{{site.baseurl}}/images/q32_2020.png\">\n",
    "\n",
    "### Explanation\n",
    "\n",
    "The answer I chose segment subtracts the lowest score from the sum. It erroneously divides this result by the number of scores rather than one less than the number of scores. This is not what the program intended to do, and thus it can not be this option. It must be the option that takes the sum of the individual scores and subtracts the lowest score. To obtain the average, the result is divided by one less than the number of scores (since one score was dropped). This makes option D correct.\n",
    "\n"
   ]
  }
 ],
 "metadata": {
  "kernelspec": {
   "display_name": "Python 3 (ipykernel)",
   "language": "python",
   "name": "python3"
  },
  "language_info": {
   "codemirror_mode": {
    "name": "ipython",
    "version": 3
   },
   "file_extension": ".py",
   "mimetype": "text/x-python",
   "name": "python",
   "nbconvert_exporter": "python",
   "pygments_lexer": "ipython3",
   "version": "3.12.5"
  }
 },
 "nbformat": 4,
 "nbformat_minor": 4
}
