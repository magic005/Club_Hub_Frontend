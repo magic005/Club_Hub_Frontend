{
 "cells": [
  {
   "cell_type": "raw",
   "metadata": {
    "vscode": {
     "languageId": "raw"
    }
   },
   "source": [
    "---\n",
    "toc: true\n",
    "layout: post\n",
    "type: hacks\n",
    "courses: { compsci: {week: 14} }\n",
    "title: Peer Review with Anvay Vahia - Ansh Kumar\n",
    "description: A comprehensive reflection of my peer review session with Anvay Vahia.\n",
    "---"
   ]
  },
  {
   "cell_type": "markdown",
   "metadata": {},
   "source": [
    "# Overview\n",
    "\n",
    "Prior to my final review, I held a session with my peer, Anvay Vahia, to determine the strengths and weaknesses of my retrospective. In this review, I describe the feedback I provided Anvay, and the advice I recieved from him. This helped strengthen my overall presentation and greatly benefited my delivery and approach."
   ]
  },
  {
   "cell_type": "markdown",
   "metadata": {},
   "source": [
    "# Anvays’s Feedback to Me:\n",
    "\n",
    "## Burndown Chart Clarity: \n",
    "- Anvay pointed out that while I referenced my team’s burndown chart, I didn’t fully explain how we used it to manage our workflow. He suggested that I include a concrete example of how we adjusted our sprint timeline when facing unexpected challenges.\n",
    "\n",
    "## Connecting Features to CPT/FRQ: \n",
    "- He recommended that I make a more direct connection between my project’s key features and the CPT rubric, ensuring that my reflections explicitly align with College Board expectations. This would help strengthen my write-up by demonstrating an understanding of both technical implementation and required documentation.\n",
    "\n",
    "## Learning from Other Projects: \n",
    "- Anvay encouraged me to mention specific projects from N@tM that caught my attention and explain how they influenced my own work. He noted that discussing how other projects inspired improvements or new ideas in my own would add depth to my reflection.\n",
    "\n",
    "## Technical Growth Reflection: \n",
    "- While I discussed my strengths in the retrospective, Anvay suggested that I dive deeper into a specific technical challenge I faced, detailing how I overcame it and what I plan to improve upon in future coursework.\n",
    "\n",
    "## Presentation Timing: \n",
    "- He observed that I was slightly rushed in my live review and advised me to refine my pacing. Practicing a more structured approach would help me deliver all key points smoothly within the three-minute limit.\n",
    "\n",
    "\n",
    "# My Feedback to Anvay Vahia:\n",
    "\n",
    "## Structuring Key Contributions: \n",
    "- I suggested that Anvay make his presentation more structured by organizing his discussion around the major milestones of his project. Clearly breaking down his work into phases—problem identification, development, testing, and refinement—would make his explanations more compelling.\n",
    "\n",
    "## CPT Requirement Alignment: \n",
    "- His project demonstrated strong full-stack implementation, but I recommended that he highlight how specific features directly fulfill CPT criteria. Explicitly linking each aspect of his work to rubric expectations would strengthen his justification.\n",
    "\n",
    "## Personalizing the Retrospective: \n",
    "- I encouraged him to go beyond listing strengths and weaknesses by sharing how his skills evolved over time. By connecting his learning experiences to future coursework, internships, or cybersecurity aspirations, he could make his reflection more impactful.\n",
    "\n",
    "## Applying N@tM Feedback: \n",
    "- While he acknowledged positive comments, I suggested that he focus on feedback that led to actionable improvements. Instead of summarizing general reactions, he could highlight key insights that shaped his project’s next steps.\n",
    "\n",
    "## Enhancing Live Review Delivery: \n",
    "- Given the time constraints, I recommended that he refine his approach by using concise bullet points and prioritizing high-impact statements. This would ensure his delivery is clear, engaging, and well-paced.\n",
    "\n",
    "\n",
    "# Reflection\n",
    "\n",
    "After carefully reviewing all of Anvay's feedback, I decided to create a blog focused on my performance in the MCQ with structured analytics and analysis of the data CB provided me. I also implimented a more structured approach to my presentation of the 5 items of interest, and discuss how they align with the CPT requirements. He also thought I should give a deeper reflection of my growth, challenges, and learnings from other projects, which I attempted to incorperate throughout the retrospective.\n",
    "\n",
    "Overall, working with Anvay proved incredibly helpful and useful, and I found that reviewing with peers outside the team you directly collabrate with is especially helpful in finding meaningful insights."
   ]
  }
 ],
 "metadata": {
  "kernelspec": {
   "display_name": "Python 3 (ipykernel)",
   "language": "python",
   "name": "python3"
  },
  "language_info": {
   "codemirror_mode": {
    "name": "ipython",
    "version": 3
   },
   "file_extension": ".py",
   "mimetype": "text/x-python",
   "name": "python",
   "nbconvert_exporter": "python",
   "pygments_lexer": "ipython3",
   "version": "3.13.1"
  }
 },
 "nbformat": 4,
 "nbformat_minor": 4
}
