{
 "cells": [
  {
   "cell_type": "markdown",
   "metadata": {},
   "source": [
    "---\n",
    "layout: post\n",
    "title: Binary Search Hacks - Ansh Kumar\n",
    "permalink: /binary\n",
    "menu: nav/home.html\n",
    "show_reading_time: false\n",
    "---"
   ]
  },
  {
   "cell_type": "markdown",
   "metadata": {},
   "source": [
    "# Binary Search Hacks\n",
    "\n",
    "## Popcorn Hack 1\n",
    "\n",
    "**Question:**  \n",
    "The procedure `BinarySearch(numList, target)` correctly implements a binary search on the list of numbers `numList`. The procedure returns an index where `target` occurs in `numList`, or -1 if `target` does not occur.\n",
    "\n",
    "**Which of the following conditions must be met in order for the procedure to work as intended?**\n",
    "\n",
    "**Answer:**  \n",
    "**c) The values in `numList` must be in sorted order**\n",
    "\n",
    "**Explanation:**  \n",
    "Binary search relies on the list being sorted so that it can eliminate half the remaining elements at each step. If the list is not sorted, the comparisons at each midpoint are not meaningful, and the algorithm will not work as intended.\n",
    "\n",
    "---\n",
    "\n",
    "## Popcorn Hack 2\n",
    "\n",
    "**Question:**  \n",
    "Which of the following statements correctly describes a disadvantage of binary search compared to linear search?\n",
    "\n",
    "**a)** Binary search takes more time on average than linear search  \n",
    "**b)** Binary search cannot be used on unsorted lists without modifications  \n",
    "**c)** Binary search always returns the first occurrence of the target  \n",
    "**d)** Binary search can only be used on lists with unique values  \n",
    "\n",
    "**Answer:**  \n",
    "**b) Binary search cannot be used on unsorted lists without modifications**\n",
    "\n",
    "**Explanation:**  \n",
    "Binary search only works on sorted data. If the list is unsorted, linear search must be used or the list must be sorted first.  \n",
    "- a) is incorrect because binary search is faster on average.  \n",
    "- c) is incorrect because basic binary search returns *an* occurrence, not necessarily the first.  \n",
    "- d) is incorrect because binary search works fine on duplicates unless you're specifically trying to find the first or last occurrence.\n",
    "\n",
    "---\n",
    "\n",
    "## Popcorn Hack 3\n",
    "\n",
    "**Task:**  \n",
    "Given the sorted list `['a', 'b', 'c', 'd', 'e', 'f', 'g']`, write a binary search algorithm that returns the index of a given element (e.g., input `'c'` should return `2`)."
   ]
  },
  {
   "cell_type": "code",
   "execution_count": 1,
   "metadata": {},
   "outputs": [
    {
     "name": "stdout",
     "output_type": "stream",
     "text": [
      "2\n"
     ]
    }
   ],
   "source": [
    "def binary_search_char(arr, target):\n",
    "    low, high = 0, len(arr) - 1\n",
    "\n",
    "    while low <= high:\n",
    "        mid = (low + high) // 2\n",
    "        if arr[mid] == target:\n",
    "            return mid\n",
    "        elif arr[mid] < target:\n",
    "            low = mid + 1\n",
    "        else:\n",
    "            high = mid - 1\n",
    "\n",
    "    return -1\n",
    "\n",
    "# Example:\n",
    "chars = ['a', 'b', 'c', 'd', 'e', 'f', 'g']\n",
    "print(binary_search_char(chars, 'c'))  # Output: 2"
   ]
  },
  {
   "cell_type": "markdown",
   "metadata": {},
   "source": [
    "___\n",
    "\n",
    "## Homework Hack: Binary Search on Product Prices\n"
   ]
  },
  {
   "cell_type": "code",
   "execution_count": 6,
   "metadata": {},
   "outputs": [
    {
     "name": "stdout",
     "output_type": "stream",
     "text": [
      "First few sorted prices: [0.5, 0.89, 0.99, 1.25, 1.5]\n",
      "Total row count: 15\n",
      "Cleaned price count: 15\n",
      "Price 1.25 found at index 3.\n",
      "Price 6.49 found at index 12.\n",
      "Price 10.0 not found.\n"
     ]
    }
   ],
   "source": [
    "import csv\n",
    "\n",
    "# Load and clean the dataset manually\n",
    "with open(\"school_supplies.csv\", newline='') as csvfile:\n",
    "    reader = csv.DictReader(csvfile)\n",
    "    price_list = []\n",
    "\n",
    "    for row in reader:\n",
    "        price_str = row.get(\"Price\", \"\").strip()\n",
    "        if price_str:\n",
    "            try:\n",
    "                price = float(price_str)\n",
    "                price_list.append(price)\n",
    "            except ValueError:\n",
    "                continue  # Skip if not a valid float\n",
    "\n",
    "# Sort the prices\n",
    "price_list.sort()\n",
    "\n",
    "# Preview the sorted prices\n",
    "print(\"First few sorted prices:\", price_list[:5])\n",
    "print(\"Total row count:\", sum(1 for _ in open(\"school_supplies.csv\")) - 1)  # minus header\n",
    "print(\"Cleaned price count:\", len(price_list))\n",
    "\n",
    "# Binary search function\n",
    "def binary_search(arr, target):\n",
    "    low, high = 0, len(arr) - 1\n",
    "    while low <= high:\n",
    "        mid = (low + high) // 2\n",
    "        if arr[mid] == target:\n",
    "            return mid\n",
    "        elif arr[mid] < target:\n",
    "            low = mid + 1\n",
    "        else:\n",
    "            high = mid - 1\n",
    "    return -1\n",
    "\n",
    "# Search for specific prices\n",
    "targets = [1.25, 6.49, 10.00]\n",
    "\n",
    "for price in targets:\n",
    "    index = binary_search(price_list, price)\n",
    "    if index != -1:\n",
    "        print(f\"Price {price} found at index {index}.\")\n",
    "    else:\n",
    "        print(f\"Price {price} not found.\")"
   ]
  },
  {
   "cell_type": "markdown",
   "metadata": {},
   "source": [
    "# Thank you for listening to my Ted Talk."
   ]
  }
 ],
 "metadata": {
  "kernelspec": {
   "display_name": "venv",
   "language": "python",
   "name": "python3"
  },
  "language_info": {
   "codemirror_mode": {
    "name": "ipython",
    "version": 3
   },
   "file_extension": ".py",
   "mimetype": "text/x-python",
   "name": "python",
   "nbconvert_exporter": "python",
   "pygments_lexer": "ipython3",
   "version": "3.12.8"
  }
 },
 "nbformat": 4,
 "nbformat_minor": 2
}
